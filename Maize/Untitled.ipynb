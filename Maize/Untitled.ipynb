{
 "cells": [
  {
   "cell_type": "code",
   "execution_count": 2,
   "id": "f098e0d4-6b0a-4106-91db-ab9626a95fd5",
   "metadata": {},
   "outputs": [],
   "source": [
    "import pandas as pd\n",
    "\n",
    "df1 = pd.read_csv('Maize 2019-2022.csv')\n",
    "df2 = pd.read_csv('Maize 2023.csv')\n",
    "# df4 = pd.read_csv('Maize 2022.csv')\n",
    "\n",
    "\n",
    "concatenated_df1 = pd.concat([df1, df2], axis=0)\n",
    "concatenated_df1.to_csv('Maize 2019-2023.csv', index=False)\n",
    "# concatenated_df2 = pd.concat([df3, df4], axis=0)\n",
    "# concatenated_df2.to_csv('Maize 2021-2022.csv', index=False)\n"
   ]
  },
  {
   "cell_type": "code",
   "execution_count": null,
   "id": "767da868-7e77-4b34-b157-4ccf3e24f13e",
   "metadata": {},
   "outputs": [],
   "source": []
  }
 ],
 "metadata": {
  "kernelspec": {
   "display_name": "Python 3 (ipykernel)",
   "language": "python",
   "name": "python3"
  },
  "language_info": {
   "codemirror_mode": {
    "name": "ipython",
    "version": 3
   },
   "file_extension": ".py",
   "mimetype": "text/x-python",
   "name": "python",
   "nbconvert_exporter": "python",
   "pygments_lexer": "ipython3",
   "version": "3.11.5"
  }
 },
 "nbformat": 4,
 "nbformat_minor": 5
}
