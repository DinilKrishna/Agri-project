{
 "cells": [
  {
   "cell_type": "code",
   "execution_count": 2,
   "id": "0c6ac60b-ab01-4334-9a53-dc4806093d6c",
   "metadata": {},
   "outputs": [],
   "source": [
    "import pandas as pd\n",
    "\n",
    "df1 = pd.read_csv('Arhar 2019-2021.csv')\n",
    "df2 = pd.read_csv('Arhar 2022-2023.csv')\n",
    "\n",
    "\n",
    "concatenated_df1 = pd.concat([df1, df2], axis=0)\n",
    "concatenated_df1.to_csv('Arhar 2019-2023.csv', index=False)\n",
    "\n"
   ]
  },
  {
   "cell_type": "code",
   "execution_count": null,
   "id": "f9ca72f7-82ed-46b3-a9bd-f793ee0647a5",
   "metadata": {},
   "outputs": [],
   "source": []
  }
 ],
 "metadata": {
  "kernelspec": {
   "display_name": "Python 3 (ipykernel)",
   "language": "python",
   "name": "python3"
  },
  "language_info": {
   "codemirror_mode": {
    "name": "ipython",
    "version": 3
   },
   "file_extension": ".py",
   "mimetype": "text/x-python",
   "name": "python",
   "nbconvert_exporter": "python",
   "pygments_lexer": "ipython3",
   "version": "3.11.5"
  }
 },
 "nbformat": 4,
 "nbformat_minor": 5
}
