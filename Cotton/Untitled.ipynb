{
 "cells": [
  {
   "cell_type": "code",
   "execution_count": null,
   "id": "f0c4823c-7428-4cdc-9249-71b81ec91be0",
   "metadata": {},
   "outputs": [],
   "source": []
  }
 ],
 "metadata": {
  "kernelspec": {
   "display_name": "",
   "name": ""
  },
  "language_info": {
   "name": ""
  }
 },
 "nbformat": 4,
 "nbformat_minor": 5
}
