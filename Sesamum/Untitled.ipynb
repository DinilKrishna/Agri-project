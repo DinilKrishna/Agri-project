{
 "cells": [
  {
   "cell_type": "code",
   "execution_count": 1,
   "id": "e9c94906-1651-4030-9623-ad01f64e4c63",
   "metadata": {},
   "outputs": [],
   "source": [
    "import pandas as pd\n",
    "\n",
    "df1 = pd.read_csv('Sesamum 2019-2021.csv')\n",
    "df2 = pd.read_csv('Sesamum 2022-2023.csv')\n",
    "\n",
    "concatenated_df = pd.concat([df1, df2], axis=0)\n",
    "concatenated_df.to_csv('Sesamum 2019-2023.csv', index=False)"
   ]
  },
  {
   "cell_type": "code",
   "execution_count": null,
   "id": "49d2e5fd-6c04-4331-9c92-db8eb5069930",
   "metadata": {},
   "outputs": [],
   "source": []
  }
 ],
 "metadata": {
  "kernelspec": {
   "display_name": "Python 3 (ipykernel)",
   "language": "python",
   "name": "python3"
  },
  "language_info": {
   "codemirror_mode": {
    "name": "ipython",
    "version": 3
   },
   "file_extension": ".py",
   "mimetype": "text/x-python",
   "name": "python",
   "nbconvert_exporter": "python",
   "pygments_lexer": "ipython3",
   "version": "3.11.5"
  }
 },
 "nbformat": 4,
 "nbformat_minor": 5
}
